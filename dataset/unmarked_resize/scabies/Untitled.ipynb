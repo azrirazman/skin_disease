{
 "cells": [
  {
   "cell_type": "code",
   "execution_count": 1,
   "id": "d852619d-b78d-4f52-9efc-dfee2454cf10",
   "metadata": {},
   "outputs": [
    {
     "name": "stdout",
     "output_type": "stream",
     "text": [
      "Renamed: download (1).jpg -> scabies (1).jpg\n",
      "Renamed: download (2).jpg -> scabies (2).jpg\n",
      "Renamed: download.jpg -> scabies (3).jpg\n",
      "Renamed: OIP (1).jpg -> scabies (4).jpg\n",
      "Renamed: OIP (10).jpg -> scabies (5).jpg\n",
      "Renamed: OIP (11).jpg -> scabies (6).jpg\n",
      "Renamed: OIP (12).jpg -> scabies (7).jpg\n",
      "Renamed: OIP (13).jpg -> scabies (8).jpg\n",
      "Renamed: OIP (14).jpg -> scabies (9).jpg\n",
      "Renamed: OIP (15).jpg -> scabies (10).jpg\n",
      "Renamed: OIP (16).jpg -> scabies (11).jpg\n",
      "Renamed: OIP (17).jpg -> scabies (12).jpg\n",
      "Renamed: OIP (18).jpg -> scabies (13).jpg\n",
      "Renamed: OIP (19).jpg -> scabies (14).jpg\n",
      "Renamed: OIP (2).jpg -> scabies (15).jpg\n",
      "Renamed: OIP (20).jpg -> scabies (16).jpg\n",
      "Renamed: OIP (21).jpg -> scabies (17).jpg\n",
      "Renamed: OIP (22).jpg -> scabies (18).jpg\n",
      "Renamed: OIP (23).jpg -> scabies (19).jpg\n",
      "Renamed: OIP (24).jpg -> scabies (20).jpg\n",
      "Renamed: OIP (25).jpg -> scabies (21).jpg\n",
      "Renamed: OIP (26).jpg -> scabies (22).jpg\n",
      "Renamed: OIP (27).jpg -> scabies (23).jpg\n",
      "Renamed: OIP (28).jpg -> scabies (24).jpg\n",
      "Renamed: OIP (29).jpg -> scabies (25).jpg\n",
      "Renamed: OIP (3).jpg -> scabies (26).jpg\n",
      "Renamed: OIP (30).jpg -> scabies (27).jpg\n",
      "Renamed: OIP (31).jpg -> scabies (28).jpg\n",
      "Renamed: OIP (32).jpg -> scabies (29).jpg\n",
      "Renamed: OIP (33).jpg -> scabies (30).jpg\n",
      "Renamed: OIP (34).jpg -> scabies (31).jpg\n",
      "Renamed: OIP (35).jpg -> scabies (32).jpg\n",
      "Renamed: OIP (36).jpg -> scabies (33).jpg\n",
      "Renamed: OIP (37).jpg -> scabies (34).jpg\n",
      "Renamed: OIP (38).jpg -> scabies (35).jpg\n",
      "Renamed: OIP (39).jpg -> scabies (36).jpg\n",
      "Renamed: OIP (4).jpg -> scabies (37).jpg\n",
      "Renamed: OIP (40).jpg -> scabies (38).jpg\n",
      "Renamed: OIP (41).jpg -> scabies (39).jpg\n",
      "Renamed: OIP (5).jpg -> scabies (40).jpg\n",
      "Renamed: OIP (6).jpg -> scabies (41).jpg\n",
      "Renamed: OIP (7).jpg -> scabies (42).jpg\n",
      "Renamed: OIP (8).jpg -> scabies (43).jpg\n",
      "Renamed: OIP (9).jpg -> scabies (44).jpg\n",
      "Renamed: OIP.jpg -> scabies (45).jpg\n",
      "Renamed: scabies0.jpg -> scabies (46).jpg\n",
      "Renamed: scabies1.jpg -> scabies (47).jpg\n",
      "Renamed: scabies2.jpg -> scabies (48).jpg\n",
      "Renamed: scabies3.jpg -> scabies (49).jpg\n",
      "Renamed: scabies4.jpg -> scabies (50).jpg\n",
      "Renamed: scabies5.jpg -> scabies (51).jpg\n",
      "Renamed: scabies6.jpg -> scabies (52).jpg\n",
      "Renamed: scabies7.jpg -> scabies (53).jpg\n",
      "Renamed: scabies8.jpg -> scabies (54).jpg\n"
     ]
    }
   ],
   "source": [
    "import os\n",
    "\n",
    "def rename_files():\n",
    "    # Get the current working directory\n",
    "    folder_path = os.getcwd()\n",
    "    \n",
    "    # List all files in the current working directory\n",
    "    files = os.listdir()\n",
    "    \n",
    "    # Filter only image files with the specified extension (e.g., '.jpg')\n",
    "    image_files = [file for file in files if file.lower().endswith(('.jpg', '.jpeg', '.png', '.gif', '.bmp'))]\n",
    "\n",
    "    # Iterate through the image files and rename them\n",
    "    for i, old_name in enumerate(image_files, start=1):\n",
    "        # Form the new name using the original name and index\n",
    "        new_name = f'scabies ({i}).{old_name.split(\".\")[-1]}'\n",
    "        \n",
    "        # Rename the file\n",
    "        os.rename(old_name, new_name)\n",
    "        print(f'Renamed: {old_name} -> {new_name}')\n",
    "\n",
    "# Call the function to rename files in the current working directory\n",
    "rename_files()"
   ]
  },
  {
   "cell_type": "code",
   "execution_count": null,
   "id": "b98891d2-c6e7-423f-aed5-55f43bfca669",
   "metadata": {},
   "outputs": [],
   "source": []
  }
 ],
 "metadata": {
  "kernelspec": {
   "display_name": "Python 3 (ipykernel)",
   "language": "python",
   "name": "python3"
  },
  "language_info": {
   "codemirror_mode": {
    "name": "ipython",
    "version": 3
   },
   "file_extension": ".py",
   "mimetype": "text/x-python",
   "name": "python",
   "nbconvert_exporter": "python",
   "pygments_lexer": "ipython3",
   "version": "3.11.7"
  }
 },
 "nbformat": 4,
 "nbformat_minor": 5
}
